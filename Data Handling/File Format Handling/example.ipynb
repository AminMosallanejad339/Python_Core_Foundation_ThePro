{
 "cells": [
  {
   "cell_type": "markdown",
   "id": "f4829cc7",
   "metadata": {},
   "source": [
    "# File Format Handling\n",
    "\n",
    "Example notebook for File Format Handling"
   ]
  }
 ],
 "metadata": {},
 "nbformat": 4,
 "nbformat_minor": 5
}
