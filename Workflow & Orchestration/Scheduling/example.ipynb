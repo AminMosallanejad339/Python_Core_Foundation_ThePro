{
 "cells": [
  {
   "cell_type": "markdown",
   "id": "5c67874b",
   "metadata": {},
   "source": [
    "# Scheduling\n",
    "\n",
    "Example notebook for Scheduling"
   ]
  }
 ],
 "metadata": {},
 "nbformat": 4,
 "nbformat_minor": 5
}
