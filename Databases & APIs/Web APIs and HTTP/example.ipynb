{
 "cells": [
  {
   "cell_type": "markdown",
   "id": "dd2c65b5",
   "metadata": {},
   "source": [
    "# Web APIs and HTTP\n",
    "\n",
    "Example notebook for Web APIs and HTTP"
   ]
  }
 ],
 "metadata": {},
 "nbformat": 4,
 "nbformat_minor": 5
}
