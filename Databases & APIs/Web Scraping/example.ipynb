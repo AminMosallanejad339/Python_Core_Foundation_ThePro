{
 "cells": [
  {
   "cell_type": "markdown",
   "id": "46a3f89b",
   "metadata": {},
   "source": [
    "# Web Scraping\n",
    "\n",
    "Example notebook for Web Scraping"
   ]
  }
 ],
 "metadata": {},
 "nbformat": 4,
 "nbformat_minor": 5
}
