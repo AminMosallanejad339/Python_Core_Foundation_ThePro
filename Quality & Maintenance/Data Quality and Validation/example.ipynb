{
 "cells": [
  {
   "cell_type": "markdown",
   "id": "4ee4e128",
   "metadata": {},
   "source": [
    "# Data Quality and Validation\n",
    "\n",
    "Example notebook for Data Quality and Validation"
   ]
  }
 ],
 "metadata": {},
 "nbformat": 4,
 "nbformat_minor": 5
}
