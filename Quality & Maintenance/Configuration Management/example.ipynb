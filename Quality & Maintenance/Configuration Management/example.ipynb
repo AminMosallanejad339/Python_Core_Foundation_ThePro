{
 "cells": [
  {
   "cell_type": "markdown",
   "id": "6a6f54f2",
   "metadata": {},
   "source": [
    "# Configuration Management\n",
    "\n",
    "Example notebook for Configuration Management"
   ]
  }
 ],
 "metadata": {},
 "nbformat": 4,
 "nbformat_minor": 5
}
