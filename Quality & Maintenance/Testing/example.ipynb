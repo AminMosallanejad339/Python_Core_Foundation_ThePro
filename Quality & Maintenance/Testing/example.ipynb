{
 "cells": [
  {
   "cell_type": "markdown",
   "id": "82d0c790",
   "metadata": {},
   "source": [
    "# Testing\n",
    "\n",
    "Example notebook for Testing"
   ]
  }
 ],
 "metadata": {},
 "nbformat": 4,
 "nbformat_minor": 5
}
