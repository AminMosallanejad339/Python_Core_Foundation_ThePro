{
 "cells": [
  {
   "cell_type": "markdown",
   "id": "b4457f7f",
   "metadata": {},
   "source": [
    "# Logging and Monitoring\n",
    "\n",
    "Example notebook for Logging and Monitoring"
   ]
  }
 ],
 "metadata": {},
 "nbformat": 4,
 "nbformat_minor": 5
}
