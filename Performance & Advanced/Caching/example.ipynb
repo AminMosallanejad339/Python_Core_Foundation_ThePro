{
 "cells": [
  {
   "cell_type": "markdown",
   "id": "7def5010",
   "metadata": {},
   "source": [
    "# Caching\n",
    "\n",
    "Example notebook for Caching"
   ]
  }
 ],
 "metadata": {},
 "nbformat": 4,
 "nbformat_minor": 5
}
