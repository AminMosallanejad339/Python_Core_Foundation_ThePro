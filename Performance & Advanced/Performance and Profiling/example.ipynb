{
 "cells": [
  {
   "cell_type": "markdown",
   "id": "d1c0de0b",
   "metadata": {},
   "source": [
    "# Performance and Profiling\n",
    "\n",
    "Example notebook for Performance and Profiling"
   ]
  }
 ],
 "metadata": {},
 "nbformat": 4,
 "nbformat_minor": 5
}
